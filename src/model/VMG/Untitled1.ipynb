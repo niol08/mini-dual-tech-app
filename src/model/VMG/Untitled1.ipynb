{
 "cells": [
  {
   "cell_type": "code",
   "execution_count": 144,
   "id": "a6363a0a-dddc-49ca-8207-7d588480328e",
   "metadata": {},
   "outputs": [],
   "source": [
    "import os\n",
    "import numpy as np\n",
    "import tensorflow as tf\n",
    "from sklearn.model_selection import train_test_split\n",
    "from sklearn.metrics import classification_report"
   ]
  },
  {
   "cell_type": "code",
   "execution_count": 145,
   "id": "ea0f3d7e-3635-4cc8-b9fb-f1a2a6c4efe5",
   "metadata": {},
   "outputs": [],
   "source": [
    "LABELS = {\n",
    "    'emg_healthy.txt': 0,\n",
    "    'emg_myopathy.txt': 1,\n",
    "    'emg_neuropathy.txt': 2\n",
    "}\n",
    "label_names = ['healthy', 'myopathy', 'neuropathy']\n",
    "\n"
   ]
  },
  {
   "cell_type": "code",
   "execution_count": 146,
   "id": "83fd5abb-d217-4f78-8f2a-64898da09b71",
   "metadata": {},
   "outputs": [],
   "source": [
    "def load_emg_column(file_path, column=1):\n",
    "    signal = []\n",
    "    with open(file_path, 'r', errors='ignore') as f:\n",
    "        for line in f:\n",
    "            try:\n",
    "                parts = line.strip().split()\n",
    "                signal.append(float(parts[column]))\n",
    "            except:\n",
    "                continue\n",
    "    return np.array(signal)"
   ]
  },
  {
   "cell_type": "code",
   "execution_count": 147,
   "id": "9725f42f-4b48-475f-a95c-859cc6ef08d6",
   "metadata": {},
   "outputs": [],
   "source": [
    "def window_signal(signal, label, window_size=1000):\n",
    "    X, y = [], []\n",
    "    for i in range(0, len(signal) - window_size, window_size):\n",
    "        win = signal[i:i+window_size]\n",
    "        win = (win - np.mean(win)) / (np.std(win) + 1e-6)  # normalize\n",
    "        X.append(win.reshape(-1, 1))\n",
    "        y.append(label)\n",
    "    return X, y"
   ]
  },
  {
   "cell_type": "code",
   "execution_count": 148,
   "id": "83937c6c-5ae5-4b3f-86ae-4ef4f6090335",
   "metadata": {},
   "outputs": [
    {
     "name": "stdout",
     "output_type": "stream",
     "text": [
      "X shape: (307, 1000, 1)\n",
      "y shape: (307,)\n"
     ]
    }
   ],
   "source": [
    "all_X, all_y = [], []\n",
    "for fname, label in LABELS.items():\n",
    "    sig = load_emg_column(fname)\n",
    "    X, y = window_signal(sig, label)\n",
    "    all_X.extend(X)\n",
    "    all_y.extend(y)\n",
    "\n",
    "X = np.array(all_X)\n",
    "y = np.array(all_y)\n",
    "\n",
    "print(\"X shape:\", X.shape)  # (samples, 1000, 1)\n",
    "print(\"y shape:\", y.shape)"
   ]
  },
  {
   "cell_type": "code",
   "execution_count": 149,
   "id": "3c21493b-c9d8-426b-9338-68a5c502c1fb",
   "metadata": {},
   "outputs": [],
   "source": [
    "X_train, X_test, y_train, y_test = train_test_split(\n",
    "    X, y, test_size=0.3, stratify=y, random_state=42\n",
    ")\n"
   ]
  },
  {
   "cell_type": "code",
   "execution_count": 150,
   "id": "0478ad59-2f97-4142-badc-0665520dafba",
   "metadata": {},
   "outputs": [],
   "source": [
    "def build_model(input_shape=(1000, 1), num_classes=3):\n",
    "    inputs = tf.keras.Input(shape=input_shape)\n",
    "    x = tf.keras.layers.Conv1D(16, 7, activation='relu')(inputs)\n",
    "    x = tf.keras.layers.MaxPooling1D(4)(x)\n",
    "    x = tf.keras.layers.Conv1D(32, 5, activation='relu')(x)\n",
    "    x = tf.keras.layers.MaxPooling1D(4)(x)\n",
    "    x = tf.keras.layers.Conv1D(64, 3, activation='relu')(x)\n",
    "    x = tf.keras.layers.GlobalAveragePooling1D()(x)\n",
    "    x = tf.keras.layers.Dense(64, activation='relu')(x)\n",
    "    outputs = tf.keras.layers.Dense(num_classes, activation='softmax')(x)\n",
    "    model = tf.keras.Model(inputs, outputs)\n",
    "    model.compile(optimizer='adam', loss='sparse_categorical_crossentropy', metrics=['accuracy'])\n",
    "    return model"
   ]
  },
  {
   "cell_type": "code",
   "execution_count": 151,
   "id": "5c1934d7-c075-4c37-964b-a4507bb22e8d",
   "metadata": {},
   "outputs": [
    {
     "name": "stdout",
     "output_type": "stream",
     "text": [
      "Epoch 1/20\n",
      "\u001b[1m14/14\u001b[0m \u001b[32m━━━━━━━━━━━━━━━━━━━━\u001b[0m\u001b[37m\u001b[0m \u001b[1m4s\u001b[0m 44ms/step - accuracy: 0.4535 - loss: 1.0181 - val_accuracy: 0.8280 - val_loss: 0.9289\n",
      "Epoch 2/20\n",
      "\u001b[1m14/14\u001b[0m \u001b[32m━━━━━━━━━━━━━━━━━━━━\u001b[0m\u001b[37m\u001b[0m \u001b[1m0s\u001b[0m 18ms/step - accuracy: 0.7765 - loss: 0.9262 - val_accuracy: 0.8280 - val_loss: 0.8191\n",
      "Epoch 3/20\n",
      "\u001b[1m14/14\u001b[0m \u001b[32m━━━━━━━━━━━━━━━━━━━━\u001b[0m\u001b[37m\u001b[0m \u001b[1m0s\u001b[0m 17ms/step - accuracy: 0.8015 - loss: 0.8075 - val_accuracy: 0.8280 - val_loss: 0.6327\n",
      "Epoch 4/20\n",
      "\u001b[1m14/14\u001b[0m \u001b[32m━━━━━━━━━━━━━━━━━━━━\u001b[0m\u001b[37m\u001b[0m \u001b[1m0s\u001b[0m 18ms/step - accuracy: 0.8046 - loss: 0.6068 - val_accuracy: 0.8280 - val_loss: 0.4365\n",
      "Epoch 5/20\n",
      "\u001b[1m14/14\u001b[0m \u001b[32m━━━━━━━━━━━━━━━━━━━━\u001b[0m\u001b[37m\u001b[0m \u001b[1m1s\u001b[0m 37ms/step - accuracy: 0.7971 - loss: 0.4298 - val_accuracy: 0.8280 - val_loss: 0.3132\n",
      "Epoch 6/20\n",
      "\u001b[1m14/14\u001b[0m \u001b[32m━━━━━━━━━━━━━━━━━━━━\u001b[0m\u001b[37m\u001b[0m \u001b[1m0s\u001b[0m 21ms/step - accuracy: 0.7798 - loss: 0.3754 - val_accuracy: 0.9032 - val_loss: 0.2471\n",
      "Epoch 7/20\n",
      "\u001b[1m14/14\u001b[0m \u001b[32m━━━━━━━━━━━━━━━━━━━━\u001b[0m\u001b[37m\u001b[0m \u001b[1m0s\u001b[0m 19ms/step - accuracy: 0.9050 - loss: 0.2526 - val_accuracy: 0.9677 - val_loss: 0.1872\n",
      "Epoch 8/20\n",
      "\u001b[1m14/14\u001b[0m \u001b[32m━━━━━━━━━━━━━━━━━━━━\u001b[0m\u001b[37m\u001b[0m \u001b[1m0s\u001b[0m 19ms/step - accuracy: 0.9687 - loss: 0.1532 - val_accuracy: 0.9785 - val_loss: 0.1494\n",
      "Epoch 9/20\n",
      "\u001b[1m14/14\u001b[0m \u001b[32m━━━━━━━━━━━━━━━━━━━━\u001b[0m\u001b[37m\u001b[0m \u001b[1m0s\u001b[0m 19ms/step - accuracy: 0.9810 - loss: 0.1227 - val_accuracy: 0.9785 - val_loss: 0.1206\n",
      "Epoch 10/20\n",
      "\u001b[1m14/14\u001b[0m \u001b[32m━━━━━━━━━━━━━━━━━━━━\u001b[0m\u001b[37m\u001b[0m \u001b[1m0s\u001b[0m 24ms/step - accuracy: 0.9768 - loss: 0.1069 - val_accuracy: 0.9892 - val_loss: 0.0864\n",
      "Epoch 11/20\n",
      "\u001b[1m14/14\u001b[0m \u001b[32m━━━━━━━━━━━━━━━━━━━━\u001b[0m\u001b[37m\u001b[0m \u001b[1m0s\u001b[0m 22ms/step - accuracy: 0.9845 - loss: 0.0743 - val_accuracy: 0.9785 - val_loss: 0.1005\n",
      "Epoch 12/20\n",
      "\u001b[1m14/14\u001b[0m \u001b[32m━━━━━━━━━━━━━━━━━━━━\u001b[0m\u001b[37m\u001b[0m \u001b[1m0s\u001b[0m 29ms/step - accuracy: 0.9853 - loss: 0.0523 - val_accuracy: 0.9785 - val_loss: 0.0755\n",
      "Epoch 13/20\n",
      "\u001b[1m14/14\u001b[0m \u001b[32m━━━━━━━━━━━━━━━━━━━━\u001b[0m\u001b[37m\u001b[0m \u001b[1m0s\u001b[0m 23ms/step - accuracy: 0.9903 - loss: 0.0463 - val_accuracy: 0.9677 - val_loss: 0.0758\n",
      "Epoch 14/20\n",
      "\u001b[1m14/14\u001b[0m \u001b[32m━━━━━━━━━━━━━━━━━━━━\u001b[0m\u001b[37m\u001b[0m \u001b[1m0s\u001b[0m 31ms/step - accuracy: 0.9753 - loss: 0.0583 - val_accuracy: 0.9785 - val_loss: 0.0778\n",
      "Epoch 15/20\n",
      "\u001b[1m14/14\u001b[0m \u001b[32m━━━━━━━━━━━━━━━━━━━━\u001b[0m\u001b[37m\u001b[0m \u001b[1m0s\u001b[0m 35ms/step - accuracy: 0.9803 - loss: 0.0482 - val_accuracy: 0.9785 - val_loss: 0.0652\n",
      "Epoch 16/20\n",
      "\u001b[1m14/14\u001b[0m \u001b[32m━━━━━━━━━━━━━━━━━━━━\u001b[0m\u001b[37m\u001b[0m \u001b[1m1s\u001b[0m 44ms/step - accuracy: 0.9932 - loss: 0.0259 - val_accuracy: 0.9785 - val_loss: 0.0570\n",
      "Epoch 17/20\n",
      "\u001b[1m14/14\u001b[0m \u001b[32m━━━━━━━━━━━━━━━━━━━━\u001b[0m\u001b[37m\u001b[0m \u001b[1m0s\u001b[0m 32ms/step - accuracy: 0.9963 - loss: 0.0274 - val_accuracy: 0.9785 - val_loss: 0.0739\n",
      "Epoch 18/20\n",
      "\u001b[1m14/14\u001b[0m \u001b[32m━━━━━━━━━━━━━━━━━━━━\u001b[0m\u001b[37m\u001b[0m \u001b[1m0s\u001b[0m 20ms/step - accuracy: 0.9827 - loss: 0.0427 - val_accuracy: 0.9785 - val_loss: 0.0535\n",
      "Epoch 19/20\n",
      "\u001b[1m14/14\u001b[0m \u001b[32m━━━━━━━━━━━━━━━━━━━━\u001b[0m\u001b[37m\u001b[0m \u001b[1m0s\u001b[0m 24ms/step - accuracy: 0.9866 - loss: 0.0298 - val_accuracy: 0.9785 - val_loss: 0.0554\n",
      "Epoch 20/20\n",
      "\u001b[1m14/14\u001b[0m \u001b[32m━━━━━━━━━━━━━━━━━━━━\u001b[0m\u001b[37m\u001b[0m \u001b[1m0s\u001b[0m 21ms/step - accuracy: 0.9954 - loss: 0.0176 - val_accuracy: 0.9785 - val_loss: 0.0551\n"
     ]
    },
    {
     "data": {
      "text/plain": [
       "<keras.src.callbacks.history.History at 0x1c00c3da510>"
      ]
     },
     "execution_count": 151,
     "metadata": {},
     "output_type": "execute_result"
    }
   ],
   "source": [
    "train_ds = tf.data.Dataset.from_tensor_slices((X_train, y_train)).shuffle(1000).batch(16)\n",
    "val_ds = tf.data.Dataset.from_tensor_slices((X_test, y_test)).batch(16)\n",
    "\n",
    "model = build_model()\n",
    "model.fit(train_ds, validation_data=val_ds, epochs=20)"
   ]
  },
  {
   "cell_type": "code",
   "execution_count": 152,
   "id": "5dc7fc65-19d4-4267-b31b-497d2b0d6f7b",
   "metadata": {
    "scrolled": true
   },
   "outputs": [
    {
     "name": "stdout",
     "output_type": "stream",
     "text": [
      "\u001b[1m3/3\u001b[0m \u001b[32m━━━━━━━━━━━━━━━━━━━━\u001b[0m\u001b[37m\u001b[0m \u001b[1m1s\u001b[0m 171ms/step\n",
      "\n",
      "Classification Report:\n",
      "              precision    recall  f1-score   support\n",
      "\n",
      "     healthy       0.88      1.00      0.94        15\n",
      "    myopathy       1.00      1.00      1.00        33\n",
      "  neuropathy       1.00      0.96      0.98        45\n",
      "\n",
      "    accuracy                           0.98        93\n",
      "   macro avg       0.96      0.99      0.97        93\n",
      "weighted avg       0.98      0.98      0.98        93\n",
      "\n"
     ]
    }
   ],
   "source": [
    "y_pred = np.argmax(model.predict(X_test), axis=1)\n",
    "print(\"\\nClassification Report:\")\n",
    "print(classification_report(y_test, y_pred, target_names=label_names))"
   ]
  },
  {
   "cell_type": "code",
   "execution_count": 154,
   "id": "6cede774-90ff-4975-b7ae-d5fbedd02d2c",
   "metadata": {},
   "outputs": [],
   "source": [
    "model.save(\"emg_classifier_txt.keras\")"
   ]
  },
  {
   "cell_type": "code",
   "execution_count": null,
   "id": "221b4e31-ee0f-4eac-954c-f60b96f068ec",
   "metadata": {},
   "outputs": [],
   "source": []
  }
 ],
 "metadata": {
  "kernelspec": {
   "display_name": "Python (TensorFlow)",
   "language": "python",
   "name": "tf-env"
  },
  "language_info": {
   "codemirror_mode": {
    "name": "ipython",
    "version": 3
   },
   "file_extension": ".py",
   "mimetype": "text/x-python",
   "name": "python",
   "nbconvert_exporter": "python",
   "pygments_lexer": "ipython3",
   "version": "3.11.6"
  }
 },
 "nbformat": 4,
 "nbformat_minor": 5
}
